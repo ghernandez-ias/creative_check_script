{
 "cells": [
  {
   "cell_type": "code",
   "execution_count": 7,
   "id": "82ac3d90",
   "metadata": {},
   "outputs": [],
   "source": [
    "import requests\n",
    "token = 'EAAZAJB0wP4SIBACr9Y249Fg53F4PMGfEiAfR6RMr1fZATYl4PcgxZAPtEXFf0nAYpGmnEk6IyrH1VLR8sDUD1Ow8vVczl2auZCWKRtLTXvBXiOWS5rfSCZB811xdzAP91WkcuGYP2mDCHpAed4ZBqa8oHxoqVSlxECxDp031eUzKwBlDg1aA6NOqzBjHNkB9hAByY4CbtRpJ6Ep6rDXaGtk0aKZBgSnb1XkMt42oYZA67VdO2juP4t3h'\n"
   ]
  },
  {
   "cell_type": "code",
   "execution_count": 14,
   "id": "9bebf403",
   "metadata": {},
   "outputs": [],
   "source": [
    "admins = requests.get(f'https://graph.facebook.com/v15.0/23852823946700004?fields=creative&access_token={token}')"
   ]
  },
  {
   "cell_type": "code",
   "execution_count": 15,
   "id": "9c8f871f",
   "metadata": {},
   "outputs": [
    {
     "data": {
      "text/plain": [
       "{'error': {'message': 'An access token is required to request this resource.',\n",
       "  'type': 'OAuthException',\n",
       "  'code': 104,\n",
       "  'fbtrace_id': 'AIApzedHHiJBNqKJ3twLbUz'}}"
      ]
     },
     "execution_count": 15,
     "metadata": {},
     "output_type": "execute_result"
    }
   ],
   "source": [
    "admins.json()"
   ]
  },
  {
   "cell_type": "code",
   "execution_count": null,
   "id": "77615409",
   "metadata": {},
   "outputs": [],
   "source": []
  }
 ],
 "metadata": {
  "kernelspec": {
   "display_name": "Python 3 (ipykernel)",
   "language": "python",
   "name": "python3"
  },
  "language_info": {
   "codemirror_mode": {
    "name": "ipython",
    "version": 3
   },
   "file_extension": ".py",
   "mimetype": "text/x-python",
   "name": "python",
   "nbconvert_exporter": "python",
   "pygments_lexer": "ipython3",
   "version": "3.9.7"
  }
 },
 "nbformat": 4,
 "nbformat_minor": 5
}
